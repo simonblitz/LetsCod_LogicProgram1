{
  "nbformat": 4,
  "nbformat_minor": 0,
  "metadata": {
    "colab": {
      "provenance": [],
      "authorship_tag": "ABX9TyNAD0XDTd7XhE9UwfzfeoXd",
      "include_colab_link": true
    },
    "kernelspec": {
      "name": "python3",
      "display_name": "Python 3"
    },
    "language_info": {
      "name": "python"
    }
  },
  "cells": [
    {
      "cell_type": "markdown",
      "metadata": {
        "id": "view-in-github",
        "colab_type": "text"
      },
      "source": [
        "<a href=\"https://colab.research.google.com/github/simonblitz/LetsCod_LogicProgram1/blob/main/Aula_3_160922.ipynb\" target=\"_parent\"><img src=\"https://colab.research.google.com/assets/colab-badge.svg\" alt=\"Open In Colab\"/></a>"
      ]
    },
    {
      "cell_type": "markdown",
      "source": [
        "\n",
        "\n",
        "Faça um programa que imprima na tela apenas os números ímpares entre 1 e 50.\n",
        "\n"
      ],
      "metadata": {
        "id": "An5ZRj2Bluiu"
      }
    },
    {
      "cell_type": "code",
      "execution_count": 10,
      "metadata": {
        "colab": {
          "base_uri": "https://localhost:8080/"
        },
        "id": "KlGMAEmlk-D0",
        "outputId": "ec7c177f-0652-41a4-da11-74cc828dfa55"
      },
      "outputs": [
        {
          "output_type": "stream",
          "name": "stdout",
          "text": [
            "1\n",
            "3\n",
            "5\n",
            "7\n",
            "9\n",
            "11\n",
            "13\n",
            "15\n",
            "17\n",
            "19\n",
            "21\n",
            "23\n",
            "25\n",
            "27\n",
            "29\n",
            "31\n",
            "33\n",
            "35\n",
            "37\n",
            "39\n",
            "41\n",
            "43\n",
            "45\n",
            "47\n",
            "49\n"
          ]
        }
      ],
      "source": [
        "num = 0\n",
        "\n",
        "while num <=50:\n",
        "  if num % 2 != 0:\n",
        "    print(num)\n",
        "  num += 1"
      ]
    },
    {
      "cell_type": "markdown",
      "source": [
        "Faça um programaque calcule um fatorial de um numero inteiro fornecido pelo usuário."
      ],
      "metadata": {
        "id": "isRBfPMeotig"
      }
    },
    {
      "cell_type": "code",
      "source": [
        "num = int(input('Digite um numero para obter o fatorial dele: '))\n",
        "\n",
        "cont = 1\n",
        "fat = num\n",
        "\n",
        "while cont < num:\n",
        "  fat *= cont\n",
        "  cont +=1\n",
        "print(f'O fatorial de {num} é: {fat}')\n",
        "\n",
        "\n"
      ],
      "metadata": {
        "colab": {
          "base_uri": "https://localhost:8080/"
        },
        "id": "WovwGQ6pouPc",
        "outputId": "2c36daf0-7c86-429e-87c0-78e2485bec5a"
      },
      "execution_count": 16,
      "outputs": [
        {
          "output_type": "stream",
          "name": "stdout",
          "text": [
            "Digite um numero para obter o fatorial dele: 5\n",
            "O fatorial de 5 é: 120\n"
          ]
        }
      ]
    },
    {
      "cell_type": "markdown",
      "source": [
        "Faça um programa que peça uma nota, entre zero e nove\n",
        "Mostre uma mensagem caso o valor seja inválido e continue pedindo até que o \n",
        "usuário informe um valor válido."
      ],
      "metadata": {
        "id": "pbGEUans1-Eu"
      }
    },
    {
      "cell_type": "code",
      "source": [
        "valor = int(input('Digite uma nota entre 0 e 9: '))\n",
        "\n",
        "#while True:\n",
        "if 0 >= valor <=9:\n",
        "    print(f'Numero é valido {valor}')\n",
        "    #break\n",
        "else:\n",
        "    print(f'Numero é invalido !')\n",
        "    #continue\n",
        "\n"
      ],
      "metadata": {
        "colab": {
          "base_uri": "https://localhost:8080/"
        },
        "id": "2nKiG1Nt1_QY",
        "outputId": "c33ef512-c060-421d-b688-8f8e13102c26"
      },
      "execution_count": 10,
      "outputs": [
        {
          "output_type": "stream",
          "name": "stdout",
          "text": [
            "Digite uma nota entre 0 e 9: 10\n",
            "Numero é invalido !\n"
          ]
        }
      ]
    }
  ]
}