{
  "nbformat": 4,
  "nbformat_minor": 0,
  "metadata": {
    "colab": {
      "provenance": [],
      "authorship_tag": "ABX9TyMsaw1RGIZve3umD0Dh1aeI",
      "include_colab_link": true
    },
    "kernelspec": {
      "name": "python3",
      "display_name": "Python 3"
    },
    "language_info": {
      "name": "python"
    }
  },
  "cells": [
    {
      "cell_type": "markdown",
      "metadata": {
        "id": "view-in-github",
        "colab_type": "text"
      },
      "source": [
        "<a href=\"https://colab.research.google.com/github/simonblitz/LetsCod_LogicProgram1/blob/main/Aula_4_190922.ipynb\" target=\"_parent\"><img src=\"https://colab.research.google.com/assets/colab-badge.svg\" alt=\"Open In Colab\"/></a>"
      ]
    },
    {
      "cell_type": "markdown",
      "source": [
        "Escreva um programa que solicita 5 números inteiros ao usuário, através de um laço while, e ao final mostre o maior número digitado pelo usuário."
      ],
      "metadata": {
        "id": "oDXKNAcP6CkR"
      }
    },
    {
      "cell_type": "code",
      "source": [
        "cont = 0\n",
        "maior = 0\n",
        "\n",
        "while cont < 5:\n",
        "  num1 = int(input('Digite um numero: '))\n",
        "  cont += 1\n",
        "  if num1 > maior:\n",
        "    maior = num1\n",
        "\n",
        "print(f'O numero maior é {maior}')"
      ],
      "metadata": {
        "colab": {
          "base_uri": "https://localhost:8080/"
        },
        "id": "VAwUqxw-6EuA",
        "outputId": "d9614c52-21bb-4828-8bc6-45f0b010c029"
      },
      "execution_count": 4,
      "outputs": [
        {
          "output_type": "stream",
          "name": "stdout",
          "text": [
            "Digite um numero: 1\n",
            "Digite um numero: 4\n",
            "Digite um numero: 7\n",
            "Digite um numero: 9\n",
            "Digite um numero: 20\n",
            "O numero maior é 20\n"
          ]
        }
      ]
    },
    {
      "cell_type": "markdown",
      "source": [
        "Tabuada de multiplicação de um número inteiro\n",
        "de forma que seja impressa assim:"
      ],
      "metadata": {
        "id": "07o2MQd9_1Th"
      }
    },
    {
      "cell_type": "code",
      "source": [
        "n = int(input('Digite o numero para a tabuada: '))\n",
        "i = 0\n",
        "\n",
        "while i < 10:\n",
        "    i += 1\n",
        "    print(f'\\n{n} x {i}  = {n * i}')"
      ],
      "metadata": {
        "colab": {
          "base_uri": "https://localhost:8080/"
        },
        "id": "hKdIikA2_1iI",
        "outputId": "a1ee6fa1-f500-4d29-e7d4-b4af5b033971"
      },
      "execution_count": 12,
      "outputs": [
        {
          "output_type": "stream",
          "name": "stdout",
          "text": [
            "Digite o numero para a tabuada: 6\n",
            "\n",
            "6 x 1  = 6\n",
            "\n",
            "6 x 2  = 12\n",
            "\n",
            "6 x 3  = 18\n",
            "\n",
            "6 x 4  = 24\n",
            "\n",
            "6 x 5  = 30\n",
            "\n",
            "6 x 6  = 36\n",
            "\n",
            "6 x 7  = 42\n",
            "\n",
            "6 x 8  = 48\n",
            "\n",
            "6 x 9  = 54\n",
            "\n",
            "6 x 10  = 60\n"
          ]
        }
      ]
    },
    {
      "cell_type": "markdown",
      "source": [],
      "metadata": {
        "id": "F6F-QGeoA1zW"
      }
    },
    {
      "cell_type": "code",
      "source": [
        "palavra = 'davi'\n",
        "palavra2 = 'costa'\n",
        "palavra3 = 'nascimento'\n",
        "\n",
        "for letra in palavra:\n",
        "    for letra2 in palavra2:\n",
        "      for letra3 in palavra3:\n",
        "        print(letra, letra2, letra3)"
      ],
      "metadata": {
        "colab": {
          "base_uri": "https://localhost:8080/"
        },
        "id": "PF1UDYUvA2Cn",
        "outputId": "a3e01ffe-71d1-4f28-de6c-882c1b7bdc75"
      },
      "execution_count": 13,
      "outputs": [
        {
          "output_type": "stream",
          "name": "stdout",
          "text": [
            "d c n\n",
            "d c a\n",
            "d c s\n",
            "d c c\n",
            "d c i\n",
            "d c m\n",
            "d c e\n",
            "d c n\n",
            "d c t\n",
            "d c o\n",
            "d o n\n",
            "d o a\n",
            "d o s\n",
            "d o c\n",
            "d o i\n",
            "d o m\n",
            "d o e\n",
            "d o n\n",
            "d o t\n",
            "d o o\n",
            "d s n\n",
            "d s a\n",
            "d s s\n",
            "d s c\n",
            "d s i\n",
            "d s m\n",
            "d s e\n",
            "d s n\n",
            "d s t\n",
            "d s o\n",
            "d t n\n",
            "d t a\n",
            "d t s\n",
            "d t c\n",
            "d t i\n",
            "d t m\n",
            "d t e\n",
            "d t n\n",
            "d t t\n",
            "d t o\n",
            "d a n\n",
            "d a a\n",
            "d a s\n",
            "d a c\n",
            "d a i\n",
            "d a m\n",
            "d a e\n",
            "d a n\n",
            "d a t\n",
            "d a o\n",
            "a c n\n",
            "a c a\n",
            "a c s\n",
            "a c c\n",
            "a c i\n",
            "a c m\n",
            "a c e\n",
            "a c n\n",
            "a c t\n",
            "a c o\n",
            "a o n\n",
            "a o a\n",
            "a o s\n",
            "a o c\n",
            "a o i\n",
            "a o m\n",
            "a o e\n",
            "a o n\n",
            "a o t\n",
            "a o o\n",
            "a s n\n",
            "a s a\n",
            "a s s\n",
            "a s c\n",
            "a s i\n",
            "a s m\n",
            "a s e\n",
            "a s n\n",
            "a s t\n",
            "a s o\n",
            "a t n\n",
            "a t a\n",
            "a t s\n",
            "a t c\n",
            "a t i\n",
            "a t m\n",
            "a t e\n",
            "a t n\n",
            "a t t\n",
            "a t o\n",
            "a a n\n",
            "a a a\n",
            "a a s\n",
            "a a c\n",
            "a a i\n",
            "a a m\n",
            "a a e\n",
            "a a n\n",
            "a a t\n",
            "a a o\n",
            "v c n\n",
            "v c a\n",
            "v c s\n",
            "v c c\n",
            "v c i\n",
            "v c m\n",
            "v c e\n",
            "v c n\n",
            "v c t\n",
            "v c o\n",
            "v o n\n",
            "v o a\n",
            "v o s\n",
            "v o c\n",
            "v o i\n",
            "v o m\n",
            "v o e\n",
            "v o n\n",
            "v o t\n",
            "v o o\n",
            "v s n\n",
            "v s a\n",
            "v s s\n",
            "v s c\n",
            "v s i\n",
            "v s m\n",
            "v s e\n",
            "v s n\n",
            "v s t\n",
            "v s o\n",
            "v t n\n",
            "v t a\n",
            "v t s\n",
            "v t c\n",
            "v t i\n",
            "v t m\n",
            "v t e\n",
            "v t n\n",
            "v t t\n",
            "v t o\n",
            "v a n\n",
            "v a a\n",
            "v a s\n",
            "v a c\n",
            "v a i\n",
            "v a m\n",
            "v a e\n",
            "v a n\n",
            "v a t\n",
            "v a o\n",
            "i c n\n",
            "i c a\n",
            "i c s\n",
            "i c c\n",
            "i c i\n",
            "i c m\n",
            "i c e\n",
            "i c n\n",
            "i c t\n",
            "i c o\n",
            "i o n\n",
            "i o a\n",
            "i o s\n",
            "i o c\n",
            "i o i\n",
            "i o m\n",
            "i o e\n",
            "i o n\n",
            "i o t\n",
            "i o o\n",
            "i s n\n",
            "i s a\n",
            "i s s\n",
            "i s c\n",
            "i s i\n",
            "i s m\n",
            "i s e\n",
            "i s n\n",
            "i s t\n",
            "i s o\n",
            "i t n\n",
            "i t a\n",
            "i t s\n",
            "i t c\n",
            "i t i\n",
            "i t m\n",
            "i t e\n",
            "i t n\n",
            "i t t\n",
            "i t o\n",
            "i a n\n",
            "i a a\n",
            "i a s\n",
            "i a c\n",
            "i a i\n",
            "i a m\n",
            "i a e\n",
            "i a n\n",
            "i a t\n",
            "i a o\n"
          ]
        }
      ]
    },
    {
      "cell_type": "code",
      "source": [
        "for hora in range(0,24):\n",
        "  for minuto in range(1,60):\n",
        "    for segundo in range(1,60):\n",
        "      print(hora, minuto, segundo)"
      ],
      "metadata": {
        "id": "D5AkyvulK91K"
      },
      "execution_count": null,
      "outputs": []
    },
    {
      "cell_type": "markdown",
      "source": [
        "Tabuada de multiplicação de um número inteiro de forma que seja impressa assim:"
      ],
      "metadata": {
        "id": "OmidnOuKRNW6"
      }
    },
    {
      "cell_type": "code",
      "source": [
        "n = int(input('Digite o numero para a tabuada: '))\n",
        "\n",
        "for i in range(1,11):\n",
        "    print(f'\\n{n} x {i}  = {n * i}') "
      ],
      "metadata": {
        "colab": {
          "base_uri": "https://localhost:8080/"
        },
        "id": "c7xC-vOnRMsW",
        "outputId": "21350311-27e0-46ca-c6b3-3807755eeeec"
      },
      "execution_count": 15,
      "outputs": [
        {
          "output_type": "stream",
          "name": "stdout",
          "text": [
            "Digite o numero para a tabuada: 3\n",
            "\n",
            "3 x 1  = 3\n",
            "\n",
            "3 x 2  = 6\n",
            "\n",
            "3 x 3  = 9\n",
            "\n",
            "3 x 4  = 12\n",
            "\n",
            "3 x 5  = 15\n",
            "\n",
            "3 x 6  = 18\n",
            "\n",
            "3 x 7  = 21\n",
            "\n",
            "3 x 8  = 24\n",
            "\n",
            "3 x 9  = 27\n",
            "\n",
            "3 x 10  = 30\n"
          ]
        }
      ]
    },
    {
      "cell_type": "markdown",
      "source": [
        "Programa que receba uma palavra e imprima a quantidade de vogais e consoantes"
      ],
      "metadata": {
        "id": "viMGVWWTT2iu"
      }
    },
    {
      "cell_type": "code",
      "source": [
        "palavra = input('Digite uma palavra: ')\n",
        "vogal = 0\n",
        "consoante = 0\n",
        "\n",
        "for letra in palavra:\n",
        "  if letra in ('aeiouAEIOU'):\n",
        "     vogal +=1\n",
        "  else:\n",
        "     consoante +=1\n",
        "print(f'A palavra tem {vogal} vogais e {consoante} consoantes.')\n",
        "    "
      ],
      "metadata": {
        "colab": {
          "base_uri": "https://localhost:8080/"
        },
        "id": "vOp7kYhKT2vk",
        "outputId": "f24abdbf-cd81-4d1f-be80-d92dfe94cc08"
      },
      "execution_count": 17,
      "outputs": [
        {
          "output_type": "stream",
          "name": "stdout",
          "text": [
            "Digite uma palavra: Simone\n",
            "A palavra tem 3 vogais e 3 consoantes.\n"
          ]
        }
      ]
    }
  ]
}