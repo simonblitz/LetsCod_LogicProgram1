{
  "nbformat": 4,
  "nbformat_minor": 0,
  "metadata": {
    "colab": {
      "provenance": [],
      "authorship_tag": "ABX9TyPC3x0JvjViBRwCx7br9zl2",
      "include_colab_link": true
    },
    "kernelspec": {
      "name": "python3",
      "display_name": "Python 3"
    },
    "language_info": {
      "name": "python"
    }
  },
  "cells": [
    {
      "cell_type": "markdown",
      "metadata": {
        "id": "view-in-github",
        "colab_type": "text"
      },
      "source": [
        "<a href=\"https://colab.research.google.com/github/simonblitz/LetsCod_LogicProgram1/blob/main/Aula_5_210922.ipynb\" target=\"_parent\"><img src=\"https://colab.research.google.com/assets/colab-badge.svg\" alt=\"Open In Colab\"/></a>"
      ]
    },
    {
      "cell_type": "markdown",
      "source": [
        "# **Listas**\n",
        "\n",
        "É um tipo de veriável que armazena outras variáveis.\n",
        "É declarada por []e pode ser heteregonea."
      ],
      "metadata": {
        "id": "EvGcTpmGPaQN"
      }
    },
    {
      "cell_type": "code",
      "execution_count": null,
      "metadata": {
        "colab": {
          "base_uri": "https://localhost:8080/"
        },
        "id": "9GRrwFToPRzr",
        "outputId": "e1f93b1d-462b-41f3-f850-7b6f649137a0"
      },
      "outputs": [
        {
          "output_type": "execute_result",
          "data": {
            "text/plain": [
              "list"
            ]
          },
          "metadata": {},
          "execution_count": 2
        }
      ],
      "source": [
        "l = list()\n",
        "l = []\n",
        "\n",
        "type(l)"
      ]
    },
    {
      "cell_type": "code",
      "source": [
        "l = [1,2,3,4,5]\n",
        "l"
      ],
      "metadata": {
        "colab": {
          "base_uri": "https://localhost:8080/"
        },
        "id": "1O6r9ISGQaC0",
        "outputId": "f21fddc8-f537-46f8-c560-8b0cb142b26a"
      },
      "execution_count": null,
      "outputs": [
        {
          "output_type": "execute_result",
          "data": {
            "text/plain": [
              "[1, 2, 3, 4, 5]"
            ]
          },
          "metadata": {},
          "execution_count": 3
        }
      ]
    },
    {
      "cell_type": "code",
      "source": [
        "l = [1,2,4.55555, 'davi', True, [1,2,3,4,5]]\n",
        "l"
      ],
      "metadata": {
        "colab": {
          "base_uri": "https://localhost:8080/"
        },
        "id": "Im4g5STjQfMU",
        "outputId": "3a8c0189-668b-457e-db22-67adda0466ba"
      },
      "execution_count": null,
      "outputs": [
        {
          "output_type": "execute_result",
          "data": {
            "text/plain": [
              "[1, 2, 4.55555, 'davi', True, [1, 2, 3, 4, 5]]"
            ]
          },
          "metadata": {},
          "execution_count": 70
        }
      ]
    },
    {
      "cell_type": "markdown",
      "source": [
        "# **Idexação / Fatiamento**\n",
        "\n",
        "len(l)   retorna o tamanho da lista\n",
        "\n",
        "l(-1)    retorna o ultimo elemento\n",
        "\n",
        "l(-2)    retorna o penultimo elemento\n",
        "\n",
        "l[4][2]  retona a posição do item dentro da lista que esta na lista"
      ],
      "metadata": {
        "id": "FLPKbTf2PWSj"
      }
    },
    {
      "cell_type": "code",
      "source": [
        "len(l)"
      ],
      "metadata": {
        "colab": {
          "base_uri": "https://localhost:8080/"
        },
        "id": "PAgoWUABuvTV",
        "outputId": "890dc805-3aa7-4623-c87b-96c8274347c8"
      },
      "execution_count": null,
      "outputs": [
        {
          "output_type": "execute_result",
          "data": {
            "text/plain": [
              "6"
            ]
          },
          "metadata": {},
          "execution_count": 71
        }
      ]
    },
    {
      "cell_type": "code",
      "source": [
        "l[-2] = False   #troquei a variavel penultima para False\n",
        "l"
      ],
      "metadata": {
        "colab": {
          "base_uri": "https://localhost:8080/"
        },
        "id": "Sf7Q7SWEQ2sy",
        "outputId": "0db665e7-ac7f-48c6-e0cf-050e6b42b386"
      },
      "execution_count": null,
      "outputs": [
        {
          "output_type": "execute_result",
          "data": {
            "text/plain": [
              "[1, 2, 4.55555, 'davi', False, [1, 2, 3, 4, 5]]"
            ]
          },
          "metadata": {},
          "execution_count": 13
        }
      ]
    },
    {
      "cell_type": "code",
      "source": [
        "l[-1][2]"
      ],
      "metadata": {
        "colab": {
          "base_uri": "https://localhost:8080/"
        },
        "id": "W5KZ7gteVJq1",
        "outputId": "5d96774c-2633-4a29-982c-6a4478481a1f"
      },
      "execution_count": null,
      "outputs": [
        {
          "output_type": "execute_result",
          "data": {
            "text/plain": [
              "3"
            ]
          },
          "metadata": {},
          "execution_count": 17
        }
      ]
    },
    {
      "cell_type": "code",
      "source": [
        "l[5][2] = [4,5,6,7]\n",
        "l"
      ],
      "metadata": {
        "colab": {
          "base_uri": "https://localhost:8080/"
        },
        "id": "OqAi4z9QVb9e",
        "outputId": "63de1beb-ca0e-4a9b-e2d3-0764c413a104"
      },
      "execution_count": null,
      "outputs": [
        {
          "output_type": "execute_result",
          "data": {
            "text/plain": [
              "[1, 2, 4.55555, 'davi', False, [1, 2, [4, 5, 6, 7], 4, 5]]"
            ]
          },
          "metadata": {},
          "execution_count": 19
        }
      ]
    },
    {
      "cell_type": "code",
      "source": [
        "l[4] = [False, True]\n",
        "l"
      ],
      "metadata": {
        "colab": {
          "base_uri": "https://localhost:8080/"
        },
        "id": "FA6HvvHRZg6H",
        "outputId": "18e0d1e3-b3d5-4926-9756-5fded51b22d8"
      },
      "execution_count": null,
      "outputs": [
        {
          "output_type": "execute_result",
          "data": {
            "text/plain": [
              "[1, 2, 4.55555, 'davi', [False, True], [1, 2, [4, 5, 6, 7], 4, 5]]"
            ]
          },
          "metadata": {},
          "execution_count": 31
        }
      ]
    },
    {
      "cell_type": "code",
      "source": [
        "l[-1][2][2]"
      ],
      "metadata": {
        "colab": {
          "base_uri": "https://localhost:8080/"
        },
        "id": "jr31cybrV1UN",
        "outputId": "7c18d518-9b23-44c4-ab2d-19bd78ec9ae3"
      },
      "execution_count": null,
      "outputs": [
        {
          "output_type": "execute_result",
          "data": {
            "text/plain": [
              "6"
            ]
          },
          "metadata": {},
          "execution_count": 20
        }
      ]
    },
    {
      "cell_type": "code",
      "source": [
        "for i in l:\n",
        "  print(i)"
      ],
      "metadata": {
        "colab": {
          "base_uri": "https://localhost:8080/"
        },
        "id": "jgfszj8pXCTr",
        "outputId": "3212690e-688e-44d4-d98c-02907e3b5786"
      },
      "execution_count": null,
      "outputs": [
        {
          "output_type": "stream",
          "name": "stdout",
          "text": [
            "1\n",
            "2\n",
            "4.55555\n",
            "davi\n",
            "False\n",
            "[1, 2, [4, 5, 6, 7], 4, 5]\n"
          ]
        }
      ]
    },
    {
      "cell_type": "code",
      "source": [
        "for i in range(len(l)):\n",
        "  print(i)"
      ],
      "metadata": {
        "colab": {
          "base_uri": "https://localhost:8080/"
        },
        "id": "_FknOUmAXGYe",
        "outputId": "03c4e753-b8b5-41d6-f58c-3c542e2e033f"
      },
      "execution_count": null,
      "outputs": [
        {
          "output_type": "stream",
          "name": "stdout",
          "text": [
            "0\n",
            "1\n",
            "2\n",
            "3\n",
            "4\n",
            "5\n"
          ]
        }
      ]
    },
    {
      "cell_type": "code",
      "source": [
        "for i in range(len(l)):\n",
        "  print(l[i])"
      ],
      "metadata": {
        "colab": {
          "base_uri": "https://localhost:8080/"
        },
        "id": "dC7815-7Xlq0",
        "outputId": "1e06f421-9683-4a90-d415-4f8de9c1a885"
      },
      "execution_count": null,
      "outputs": [
        {
          "output_type": "stream",
          "name": "stdout",
          "text": [
            "1\n",
            "2\n",
            "4.55555\n",
            "davi\n",
            "False\n",
            "[1, 2, [4, 5, 6, 7], 4, 5]\n"
          ]
        }
      ]
    },
    {
      "cell_type": "markdown",
      "source": [
        "Faça um loop que percorra uma lista e imprima o tipo de cada item.\n"
      ],
      "metadata": {
        "id": "sfOXPnirYJTm"
      }
    },
    {
      "cell_type": "code",
      "source": [
        "for i in l:\n",
        "  print(type(i))"
      ],
      "metadata": {
        "colab": {
          "base_uri": "https://localhost:8080/"
        },
        "id": "GFk_sguSYJqx",
        "outputId": "189574f4-fb0c-40b0-a598-e78020125186"
      },
      "execution_count": null,
      "outputs": [
        {
          "output_type": "stream",
          "name": "stdout",
          "text": [
            "<class 'int'>\n",
            "<class 'int'>\n",
            "<class 'float'>\n",
            "<class 'str'>\n",
            "<class 'bool'>\n",
            "<class 'list'>\n"
          ]
        }
      ]
    },
    {
      "cell_type": "markdown",
      "source": [
        "Faça um loop que percorra uma lista e imprima quantas listas ha dentro da estrutura"
      ],
      "metadata": {
        "id": "5J09u0VgYrBi"
      }
    },
    {
      "cell_type": "code",
      "source": [
        "cont = 0\n",
        "\n",
        "for i in l:\n",
        "  if type(i) == list:\n",
        "    cont +=1\n",
        "    for i2 in i:\n",
        "      if type(i2) == list:\n",
        "        cont +=1\n",
        "print(cont)\n"
      ],
      "metadata": {
        "colab": {
          "base_uri": "https://localhost:8080/"
        },
        "id": "OAJDInoYYrvI",
        "outputId": "a4018754-3200-453d-adfb-18ee0daee581"
      },
      "execution_count": null,
      "outputs": [
        {
          "output_type": "stream",
          "name": "stdout",
          "text": [
            "3\n"
          ]
        }
      ]
    },
    {
      "cell_type": "code",
      "source": [
        "t = list(range(10))\n",
        "t"
      ],
      "metadata": {
        "colab": {
          "base_uri": "https://localhost:8080/"
        },
        "id": "2UKQmdgkg8Ju",
        "outputId": "3d741e89-4aaa-4f41-b1e9-a7ff71b36f60"
      },
      "execution_count": null,
      "outputs": [
        {
          "output_type": "execute_result",
          "data": {
            "text/plain": [
              "[0, 1, 2, 3, 4, 5, 6, 7, 8, 9]"
            ]
          },
          "metadata": {},
          "execution_count": 35
        }
      ]
    },
    {
      "cell_type": "code",
      "source": [
        "t[2:7]     # fatiamento de lista"
      ],
      "metadata": {
        "colab": {
          "base_uri": "https://localhost:8080/"
        },
        "id": "bd22MkR4hH1Q",
        "outputId": "4bc59c7f-5d44-49f9-990c-9e2e17a35ad1"
      },
      "execution_count": null,
      "outputs": [
        {
          "output_type": "execute_result",
          "data": {
            "text/plain": [
              "[2, 3, 4, 5, 6]"
            ]
          },
          "metadata": {},
          "execution_count": 37
        }
      ]
    },
    {
      "cell_type": "code",
      "source": [
        "t[-2:]"
      ],
      "metadata": {
        "colab": {
          "base_uri": "https://localhost:8080/"
        },
        "id": "iXyp1v5Zhhiy",
        "outputId": "2e908e68-0348-4938-9621-50993aac8b50"
      },
      "execution_count": null,
      "outputs": [
        {
          "output_type": "execute_result",
          "data": {
            "text/plain": [
              "[8, 9]"
            ]
          },
          "metadata": {},
          "execution_count": 40
        }
      ]
    },
    {
      "cell_type": "code",
      "source": [
        "t[:-2]"
      ],
      "metadata": {
        "colab": {
          "base_uri": "https://localhost:8080/"
        },
        "id": "0CXYnIsRh9hR",
        "outputId": "55758b31-a314-426f-efaf-a69727d1ac4d"
      },
      "execution_count": null,
      "outputs": [
        {
          "output_type": "execute_result",
          "data": {
            "text/plain": [
              "[0, 1, 2, 3, 4, 5, 6, 7]"
            ]
          },
          "metadata": {},
          "execution_count": 41
        }
      ]
    },
    {
      "cell_type": "code",
      "source": [
        "t[2:10:2]  # [start,stop,step]"
      ],
      "metadata": {
        "colab": {
          "base_uri": "https://localhost:8080/"
        },
        "id": "7BRBrmAFiAVp",
        "outputId": "da2d1faa-5bfb-4a13-c25d-b3c88c5204ae"
      },
      "execution_count": null,
      "outputs": [
        {
          "output_type": "execute_result",
          "data": {
            "text/plain": [
              "[2, 4, 6, 8]"
            ]
          },
          "metadata": {},
          "execution_count": 42
        }
      ]
    },
    {
      "cell_type": "markdown",
      "source": [
        "# **Funções de listas**"
      ],
      "metadata": {
        "id": "wdFUaK3wjEVZ"
      }
    },
    {
      "cell_type": "code",
      "source": [
        "t + [1,2]       # concatenação"
      ],
      "metadata": {
        "colab": {
          "base_uri": "https://localhost:8080/"
        },
        "id": "Gm6bzQtDjFwf",
        "outputId": "6bf525fd-2fe8-45ba-d8e1-21502e25c8a9"
      },
      "execution_count": null,
      "outputs": [
        {
          "output_type": "execute_result",
          "data": {
            "text/plain": [
              "[0, 1, 2, 3, 4, 5, 6, 7, 8, 9, 1, 2]"
            ]
          },
          "metadata": {},
          "execution_count": 43
        }
      ]
    },
    {
      "cell_type": "code",
      "source": [
        "# append()\n",
        "\n",
        "# lista.append()"
      ],
      "metadata": {
        "id": "0Zy3I4ppjnjw"
      },
      "execution_count": null,
      "outputs": []
    },
    {
      "cell_type": "code",
      "source": [
        "t.append([1,2])\n",
        "t"
      ],
      "metadata": {
        "colab": {
          "base_uri": "https://localhost:8080/"
        },
        "id": "2sIuVHcbj3ux",
        "outputId": "264e255f-6795-4588-a2f1-7f17be55dfc9"
      },
      "execution_count": null,
      "outputs": [
        {
          "output_type": "execute_result",
          "data": {
            "text/plain": [
              "[0, 1, 2, 3, 4, 5, 6, 7, 8, 9, [1, 2]]"
            ]
          },
          "metadata": {},
          "execution_count": 44
        }
      ]
    },
    {
      "cell_type": "code",
      "source": [
        "a = [1,2]\n",
        "a.append(t)\n",
        "a"
      ],
      "metadata": {
        "colab": {
          "base_uri": "https://localhost:8080/"
        },
        "id": "Ix-L0L0Bkmx7",
        "outputId": "f8a0c2e0-4519-4d1b-fc66-818a7ca3b5d7"
      },
      "execution_count": null,
      "outputs": [
        {
          "output_type": "execute_result",
          "data": {
            "text/plain": [
              "[1, 2, [0, 1, 2, 3, 4, 5, 6, 7, 8, 9, [1, 2]]]"
            ]
          },
          "metadata": {},
          "execution_count": 45
        }
      ]
    },
    {
      "cell_type": "markdown",
      "source": [
        "Crie um programa, utilizando listas que peça ao usuário nome, idade, altura, peso, estado civil (casado/solteiro), e imprima semelhante a:\n",
        "\n",
        "```\n",
        "nome: davi\n",
        "idade: 30\n",
        "altura: 1.65\n",
        "peso: 80\n",
        "Estado civil:\n",
        "1. Solteiro\n",
        "2. Casado\n",
        "\n",
        "\n",
        "nome: davi\n",
        "idade: 30\n",
        "altura: 1.65\n",
        "peso: 80\n",
        "Estado civil: Solteiro\n",
        "'''"
      ],
      "metadata": {
        "id": "gVBxw5Dekww3"
      }
    },
    {
      "cell_type": "code",
      "source": [
        "r = []\n",
        "r.append(input('Digite o Nome: '))\n",
        "\n",
        "r.append(input('Digite o idade: '))\n",
        "r.append(input('Digite o altura: '))\n",
        "r.append(input('Digite o peso: '))\n",
        "r.append(input('Digite o estado civil: \\n 1.Solteiro \\n 2. Casado: '))\n",
        "\n",
        "print(f'\\nNome: {r[0]}')\n",
        "print(f'Idade: {r[1]}')\n",
        "print(f'Altura: {r[2]}')\n",
        "print(f'Peso: {r[3]}')\n",
        "print(f'Estado Civil: {r[4]}')\n",
        "\n",
        "\n",
        "\n"
      ],
      "metadata": {
        "colab": {
          "base_uri": "https://localhost:8080/"
        },
        "id": "OjF2ZzOPkvvd",
        "outputId": "c2051d4b-0a62-4b1f-f6e1-d100efd5e919"
      },
      "execution_count": null,
      "outputs": [
        {
          "output_type": "stream",
          "name": "stdout",
          "text": [
            "Digite o Nome: Simone\n",
            "Digite o idade: 42\n",
            "Digite o altura: 1.69\n",
            "Digite o peso: 84\n",
            "Digite o estado civil: \n",
            " 1.Solteiro \n",
            " 2. Casado: Casado\n",
            "\n",
            "Nome: Simone\n",
            "Idade: 42\n",
            "Altura: 1.69\n",
            "Peso: 84\n",
            "Estado Civil: Casado\n"
          ]
        }
      ]
    },
    {
      "cell_type": "markdown",
      "source": [
        "Foram anotadas as idades e alturas de 4 alunos. Faça um programa que determine quantos alunos com mais de 13 anos possuem altura inferior à média de altura desses alunos."
      ],
      "metadata": {
        "id": "I0kYs0HrpDST"
      }
    },
    {
      "cell_type": "code",
      "source": [
        "l = [[1.6,12],[1.6,20],[1.2,20],[1,20]]\n",
        "\n",
        "\n",
        "soma = 0\n",
        "\n",
        "for i in range(len(l)):\n",
        "  soma += l[i][0]\n",
        "\n",
        "media = soma/len(l)  #media de altura = soma / tam da lista\n",
        "\n",
        "qtd = 0\n",
        "\n",
        "for i in range(len(l)):\n",
        "  if l[i][0]< media and l[i][1]>13:   # compara a posição 0 de cada lista com a media e a posição 1 de cada lista com a idade maior q 13\n",
        "    qtd +=1\n",
        "\n",
        "print(media)\n",
        "print(qtd)"
      ],
      "metadata": {
        "colab": {
          "base_uri": "https://localhost:8080/"
        },
        "id": "V3GEWXTJpDt5",
        "outputId": "f35acd40-f121-4ece-d09a-977d7c376655"
      },
      "execution_count": null,
      "outputs": [
        {
          "output_type": "stream",
          "name": "stdout",
          "text": [
            "1.35\n",
            "2\n"
          ]
        }
      ]
    }
  ]
}