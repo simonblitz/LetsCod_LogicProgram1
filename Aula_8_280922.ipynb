{
  "nbformat": 4,
  "nbformat_minor": 0,
  "metadata": {
    "colab": {
      "provenance": [],
      "collapsed_sections": [],
      "authorship_tag": "ABX9TyOiPYuYI0UHFU6UuMqc12qb",
      "include_colab_link": true
    },
    "kernelspec": {
      "name": "python3",
      "display_name": "Python 3"
    },
    "language_info": {
      "name": "python"
    }
  },
  "cells": [
    {
      "cell_type": "markdown",
      "metadata": {
        "id": "view-in-github",
        "colab_type": "text"
      },
      "source": [
        "<a href=\"https://colab.research.google.com/github/simonblitz/LetsCod_LogicProgram1/blob/main/Aula_8_280922.ipynb\" target=\"_parent\"><img src=\"https://colab.research.google.com/assets/colab-badge.svg\" alt=\"Open In Colab\"/></a>"
      ]
    },
    {
      "cell_type": "code",
      "execution_count": 28,
      "metadata": {
        "colab": {
          "base_uri": "https://localhost:8080/"
        },
        "id": "zjU5GL8iYPOG",
        "outputId": "2f77345a-4399-4df2-d081-24a27798a868"
      },
      "outputs": [
        {
          "output_type": "stream",
          "name": "stdout",
          "text": [
            "______________________________________________________________________\n",
            "Turma:895 \tProjeto: Suzano <DIV>ersidade Tech\n",
            "\n",
            "\n",
            "id\tNome\tNota 1\tNota 2\tNota 3\tMédia\n",
            "---\t---- \t------\t------\t------\t------\n",
            "1\tdavi\t7\t5\t10\t7\n",
            "2\tleo\t7\t5\t5\t7\n",
            "3\tpaulo\t7\t5\t5\t7\n",
            "\n",
            "Resultados:\n",
            "\n",
            "Reprovados: 2\t Aprovados: 1\n",
            "______________________________________________________________________\n"
          ]
        }
      ],
      "source": [
        "id = [1,2,3]\n",
        "nome = ['davi','leo','paulo']\n",
        "n1 = [7,7,7]\n",
        "n2 = [5,5,5]\n",
        "n3 = [10,5,5]\n",
        "\n",
        "print('__'*35)\n",
        "print('Turma:895 \\tProjeto: Suzano <DIV>ersidade Tech\\n\\n')\n",
        "print('id\\tNome\\tNota 1\\tNota 2\\tNota 3\\tMédia')\n",
        "print(\"---\\t\"\"----\",\"\\t------\"*4)\n",
        "\n",
        "for i in range(len(id)):\n",
        "  print(f'{id[i]}\\t{nome[i]}\\t{n1[i]}\\t{n2[i]}\\t{n3[i]}\\t{7}')\n",
        "\n",
        "print('\\nResultados:')\n",
        "print('\\nReprovados: 2\\t Aprovados: 1')\n",
        "print('__'*35)"
      ]
    },
    {
      "cell_type": "markdown",
      "source": [
        "\n",
        "\n",
        "Faça um programa que solicite a data de nascimento (dd/mm/aaaa) do usuário e imprima a data com o nome do mês por extenso.\n",
        "\n",
        "Data de Nascimento: 29/10/1973\n",
        "Você nasceu em  29 de Outubro de 1973.\n",
        "\n"
      ],
      "metadata": {
        "id": "SL2IgxIJnmyc"
      }
    },
    {
      "cell_type": "code",
      "source": [
        "data = input('Informe a data de nascimento (dd/mm/aaaa)')\n",
        "dia, mes, ano = data.split('/')\n",
        "meses = ['Janeiro', 'Fevereiro','Março','Abril','Maio','Junho','Julho','Agosto','Setembro','Outubro','Novembro','Dezembro']\n",
        "\n",
        "mes = int(mes)\n",
        "\n",
        "print(f'Você nasceu em {dia} de {meses[mes-1]} de {ano}')"
      ],
      "metadata": {
        "colab": {
          "base_uri": "https://localhost:8080/"
        },
        "id": "9LUn_6cqnnAJ",
        "outputId": "d956a114-5a42-4279-8e06-4a1265aa21a6"
      },
      "execution_count": 36,
      "outputs": [
        {
          "output_type": "stream",
          "name": "stdout",
          "text": [
            "Informe a data de nascimento (dd/mm/aaaa)18/02/1980\n",
            "Você nasceu em 18 de Fevereiro de 1980\n"
          ]
        }
      ]
    },
    {
      "cell_type": "code",
      "source": [
        "num = input('Digite um numero podendo ser de 01 a 99:\\n')\n",
        "\n",
        "alg1 = ['zero','um','dois','tres','quatro','cinco','seis', 'sete','oito','nove']\n",
        "alg2 = ['dez','onze','doze','treze','quatorze','quinze','desesseis','dezesete','dezoito','dezenove']\n",
        "alg3 = ['dez','vinte','trinta','quarenta','cinquenta','sessenta','setenta','oitenta','noventa']\n",
        "\n",
        "if len(num) ==1:\n",
        "  print(f'O numero por extenso é {alg1[int(num)]}.')\n",
        "\n",
        "elif len(num)==2 and num[0]=='1':\n",
        "  print(f'O numero por extenso é {alg2[int(num[1])]}.')\n",
        "\n",
        "elif len(num)==2 and num[0]!='1' and num[1]=='0':\n",
        " print(f'O numero por extenso é {alg3[int(num[0])-1]}.')\n",
        "else:\n",
        " print(f'O numero por extenso é {alg3[int(num[0])-1]} e {alg1[int(num[1])]}.')"
      ],
      "metadata": {
        "colab": {
          "base_uri": "https://localhost:8080/"
        },
        "id": "9IoRikCJte2b",
        "outputId": "6aab7d93-4f47-49c4-fc63-91abde965b95"
      },
      "execution_count": 117,
      "outputs": [
        {
          "output_type": "stream",
          "name": "stdout",
          "text": [
            "Digite um numero podendo ser de 01 a 99:\n",
            "99\n",
            "O numero por extenso é noventa e nove.\n"
          ]
        }
      ]
    }
  ]
}