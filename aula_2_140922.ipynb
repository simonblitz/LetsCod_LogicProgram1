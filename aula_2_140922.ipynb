{
  "nbformat": 4,
  "nbformat_minor": 0,
  "metadata": {
    "colab": {
      "provenance": [],
      "include_colab_link": true
    },
    "kernelspec": {
      "name": "python3",
      "display_name": "Python 3"
    },
    "language_info": {
      "name": "python"
    }
  },
  "cells": [
    {
      "cell_type": "markdown",
      "metadata": {
        "id": "view-in-github",
        "colab_type": "text"
      },
      "source": [
        "<a href=\"https://colab.research.google.com/github/simonblitz/LetsCod_LogicProgram1/blob/main/aula_2_140922.ipynb\" target=\"_parent\"><img src=\"https://colab.research.google.com/assets/colab-badge.svg\" alt=\"Open In Colab\"/></a>"
      ]
    },
    {
      "cell_type": "markdown",
      "source": [
        "# Aula 2"
      ],
      "metadata": {
        "id": "ktzRy5AgwxeM"
      }
    },
    {
      "cell_type": "markdown",
      "source": [
        "## Operadores lógicos de comparação"
      ],
      "metadata": {
        "id": "FSaqvfRTxinl"
      }
    },
    {
      "cell_type": "code",
      "source": [],
      "metadata": {
        "id": "s8BcvALExmN5"
      },
      "execution_count": null,
      "outputs": []
    },
    {
      "cell_type": "markdown",
      "source": [
        "## Operadores lógicos AND/OR/NOT"
      ],
      "metadata": {
        "id": "eILnnJGzxuGY"
      }
    },
    {
      "cell_type": "code",
      "source": [],
      "metadata": {
        "id": "KkXoUI4Qxw0u"
      },
      "execution_count": null,
      "outputs": []
    },
    {
      "cell_type": "markdown",
      "source": [
        "## Condicionais"
      ],
      "metadata": {
        "id": "gY30Y9Irxc21"
      }
    },
    {
      "cell_type": "markdown",
      "source": [
        "Faça um Programa que verifique se uma letra digitada é vogal ou consoante."
      ],
      "metadata": {
        "id": "MiEhYTjFcXQJ"
      }
    },
    {
      "cell_type": "code",
      "source": [],
      "metadata": {
        "id": "pB63kGtPx3Os"
      },
      "execution_count": null,
      "outputs": []
    },
    {
      "cell_type": "markdown",
      "source": [
        "Faça um programa para a leitura de duas notas parciais de um aluno. O programa deve calcular a média alcançada por aluno e apresentar:\n",
        " * A mensagem \"Aprovado\", se a média alcançada for maior ou igual a sete;\n",
        " * A mensagem \"Reprovado\", se a média for menor do que sete;\n",
        " * A mensagem \"Aprovado com Distinção\", se a média for igual a dez.\n"
      ],
      "metadata": {
        "id": "KTW7uuBhDPxC"
      }
    },
    {
      "cell_type": "code",
      "source": [
        "nota1 = float(input('Informe a primeira nota parcial: '))\n",
        "nota2 = float(input('Informe a segunda nota parcial: '))\n",
        "\n",
        "media = (nota1+nota2)/2\n",
        "\n",
        "print(f'A sua média é: {media}')\n",
        "\n",
        "if  media >= 7 :\n",
        "  if media == 10:\n",
        "    print('Aprovado com distinção.')\n",
        "  else:\n",
        "    print('Aprovado.')\n",
        "else:\n",
        "  print('Reprovado.')\n",
        "\n",
        "  \n"
      ],
      "metadata": {
        "id": "5yrUT0A0-Sos",
        "colab": {
          "base_uri": "https://localhost:8080/"
        },
        "outputId": "6c8865f8-2487-4263-9664-5be1af8c4293"
      },
      "execution_count": null,
      "outputs": [
        {
          "output_type": "stream",
          "name": "stdout",
          "text": [
            "Informe a primeira nota parcial: 3\n",
            "Informe a segunda nota parcial: 5\n",
            "A sua média é: 4.0\n",
            "Reprovado.\n"
          ]
        }
      ]
    },
    {
      "cell_type": "markdown",
      "source": [
        "\n",
        "Fac¸a um programa que mostre ao usuario um menu com 4 opcôes de operacões matemáticas (as básicas, por exemplo). O usuário escolhe uma das opcões e o seu programa entao pede dois valores numéricos e realiza a operacão, mostrando o resultado e saindo.\n"
      ],
      "metadata": {
        "id": "GmIB8hNFcD2Y"
      }
    },
    {
      "cell_type": "code",
      "source": [
        "operacao = str(input('Digite a operação desejada ou numero dela: 1.Soma, 2.Subtração, 3.Multiplicação, 4.Divisão: '))\n",
        "num1 = float(input('Digite o primeiro numero: '))\n",
        "num2 = float(input('Digite o segundo numero: '))\n",
        "\n",
        "if operacao == '1' or operacao == 'Soma':\n",
        "  print(f'O valor da soma é: {num1+num2}')\n",
        "elif operacao == '2' or operacao == 'Subtração':\n",
        "  print(f'O valor da soma é: {num1-num2}')\n",
        "elif operacao == '3' or operacao == 'Multiplicação':\n",
        "  print(f'O valor da soma é: {num1*num2}')\n",
        "elif operacao == '4' or operacao == 'Divisão':\n",
        "  print(f'O valor da soma é: {num1/num2}')\n",
        "else:\n",
        "  print(f'Opçao incorreta')\n",
        "\n",
        "\n"
      ],
      "metadata": {
        "id": "HhlZa3uPyE7x",
        "colab": {
          "base_uri": "https://localhost:8080/"
        },
        "outputId": "7bc1d262-c1aa-423d-ac6c-7a56fc90ca6b"
      },
      "execution_count": null,
      "outputs": [
        {
          "output_type": "stream",
          "name": "stdout",
          "text": [
            "Digite a operação desejada ou numero dela: 1.Soma, 2.Subtração, 3.Multiplicação, 4.Divisão: 5\n",
            "Digite o primeiro numero: 2\n",
            "Digite o segundo numero: 3\n",
            "Opçao incorreta\n"
          ]
        }
      ]
    }
  ]
}